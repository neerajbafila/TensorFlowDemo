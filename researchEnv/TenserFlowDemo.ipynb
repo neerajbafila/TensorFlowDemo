{
 "cells": [
  {
   "cell_type": "code",
   "execution_count": 20,
   "metadata": {
    "executionInfo": {
     "elapsed": 3387,
     "status": "ok",
     "timestamp": 1642674897868,
     "user": {
      "displayName": "Neeraj Bafila",
      "photoUrl": "https://lh3.googleusercontent.com/a-/AOh14GhhIphOTJTAzyfNbf7uurComfppVnuwqginW55U=s64",
      "userId": "01488709131866480312"
     },
     "user_tz": -330
    },
    "id": "h60LtmMXdYDB"
   },
   "outputs": [],
   "source": [
    "import pandas as pd\n",
    "import numpy as np\n",
    "import matplotlib.pyplot as plt\n",
    "import tensorflow as tf\n",
    "import seaborn as sns"
   ]
  },
  {
   "cell_type": "code",
   "execution_count": 21,
   "metadata": {
    "colab": {
     "base_uri": "https://localhost:8080/",
     "height": 35
    },
    "executionInfo": {
     "elapsed": 21,
     "status": "ok",
     "timestamp": 1642674897868,
     "user": {
      "displayName": "Neeraj Bafila",
      "photoUrl": "https://lh3.googleusercontent.com/a-/AOh14GhhIphOTJTAzyfNbf7uurComfppVnuwqginW55U=s64",
      "userId": "01488709131866480312"
     },
     "user_tz": -330
    },
    "id": "J05q5XbvegU9",
    "outputId": "2c9e389b-a576-4538-9dd7-8070ac33f75b"
   },
   "outputs": [
    {
     "data": {
      "text/plain": [
       "'2.7.0'"
      ]
     },
     "execution_count": 21,
     "metadata": {},
     "output_type": "execute_result"
    }
   ],
   "source": [
    "tf.__version__"
   ]
  },
  {
   "cell_type": "code",
   "execution_count": 22,
   "metadata": {
    "colab": {
     "base_uri": "https://localhost:8080/"
    },
    "executionInfo": {
     "elapsed": 18,
     "status": "ok",
     "timestamp": 1642674897869,
     "user": {
      "displayName": "Neeraj Bafila",
      "photoUrl": "https://lh3.googleusercontent.com/a-/AOh14GhhIphOTJTAzyfNbf7uurComfppVnuwqginW55U=s64",
      "userId": "01488709131866480312"
     },
     "user_tz": -330
    },
    "id": "VbCM2dvge5VK",
    "outputId": "44d57811-22af-41a5-fa23-6ae5d9e2ca8a"
   },
   "outputs": [
    {
     "name": "stdout",
     "output_type": "stream",
     "text": [
      "Thu Jan 20 22:20:14 2022       \n",
      "+-----------------------------------------------------------------------------+\n",
      "| NVIDIA-SMI 511.23       Driver Version: 511.23       CUDA Version: 11.6     |\n",
      "|-------------------------------+----------------------+----------------------+\n",
      "| GPU  Name            TCC/WDDM | Bus-Id        Disp.A | Volatile Uncorr. ECC |\n",
      "| Fan  Temp  Perf  Pwr:Usage/Cap|         Memory-Usage | GPU-Util  Compute M. |\n",
      "|                               |                      |               MIG M. |\n",
      "|===============================+======================+======================|\n",
      "|   0  NVIDIA GeForce ... WDDM  | 00000000:01:00.0  On |                  N/A |\n",
      "| N/A   42C    P8     2W /  N/A |    493MiB /  4096MiB |      0%      Default |\n",
      "|                               |                      |                  N/A |\n",
      "+-------------------------------+----------------------+----------------------+\n",
      "                                                                               \n",
      "+-----------------------------------------------------------------------------+\n",
      "| Processes:                                                                  |\n",
      "|  GPU   GI   CI        PID   Type   Process name                  GPU Memory |\n",
      "|        ID   ID                                                   Usage      |\n",
      "|=============================================================================|\n",
      "|    0   N/A  N/A      1064    C+G   ...icrosoft VS Code\\Code.exe    N/A      |\n",
      "|    0   N/A  N/A      1588    C+G                                   N/A      |\n",
      "|    0   N/A  N/A      3164    C+G   ...me\\Application\\chrome.exe    N/A      |\n",
      "|    0   N/A  N/A      7448    C+G   ...artMenuExperienceHost.exe    N/A      |\n",
      "|    0   N/A  N/A      8664    C+G   C:\\Windows\\explorer.exe         N/A      |\n",
      "|    0   N/A  N/A      9740    C+G   ...n1h2txyewy\\SearchHost.exe    N/A      |\n",
      "|    0   N/A  N/A     10332    C+G   ...y\\ShellExperienceHost.exe    N/A      |\n",
      "|    0   N/A  N/A     10404    C+G   ...ekyb3d8bbwe\\YourPhone.exe    N/A      |\n",
      "|    0   N/A  N/A     11648    C+G   ...cw5n1h2txyewy\\LockApp.exe    N/A      |\n",
      "|    0   N/A  N/A     13180    C+G   ...perience\\NVIDIA Share.exe    N/A      |\n",
      "|    0   N/A  N/A     13292    C+G   ...8wekyb3d8bbwe\\Cortana.exe    N/A      |\n",
      "+-----------------------------------------------------------------------------+\n"
     ]
    }
   ],
   "source": [
    "!nvidia-smi"
   ]
  },
  {
   "cell_type": "code",
   "execution_count": 23,
   "metadata": {
    "colab": {
     "base_uri": "https://localhost:8080/",
     "height": 35
    },
    "executionInfo": {
     "elapsed": 15,
     "status": "ok",
     "timestamp": 1642674897870,
     "user": {
      "displayName": "Neeraj Bafila",
      "photoUrl": "https://lh3.googleusercontent.com/a-/AOh14GhhIphOTJTAzyfNbf7uurComfppVnuwqginW55U=s64",
      "userId": "01488709131866480312"
     },
     "user_tz": -330
    },
    "id": "8KPDy1bre-Ce",
    "outputId": "4dc1e327-f6be-41e3-af55-b3bbe91a5864"
   },
   "outputs": [
    {
     "data": {
      "text/plain": [
       "'2.7.0'"
      ]
     },
     "execution_count": 23,
     "metadata": {},
     "output_type": "execute_result"
    }
   ],
   "source": [
    "tf.keras.__version__"
   ]
  },
  {
   "cell_type": "code",
   "execution_count": 24,
   "metadata": {
    "executionInfo": {
     "elapsed": 14,
     "status": "ok",
     "timestamp": 1642674897870,
     "user": {
      "displayName": "Neeraj Bafila",
      "photoUrl": "https://lh3.googleusercontent.com/a-/AOh14GhhIphOTJTAzyfNbf7uurComfppVnuwqginW55U=s64",
      "userId": "01488709131866480312"
     },
     "user_tz": -330
    },
    "id": "VdAJGTksfGAC"
   },
   "outputs": [],
   "source": [
    "mnist = tf.keras.datasets.mnist"
   ]
  },
  {
   "cell_type": "code",
   "execution_count": 25,
   "metadata": {
    "colab": {
     "base_uri": "https://localhost:8080/"
    },
    "executionInfo": {
     "elapsed": 936,
     "status": "ok",
     "timestamp": 1642674898792,
     "user": {
      "displayName": "Neeraj Bafila",
      "photoUrl": "https://lh3.googleusercontent.com/a-/AOh14GhhIphOTJTAzyfNbf7uurComfppVnuwqginW55U=s64",
      "userId": "01488709131866480312"
     },
     "user_tz": -330
    },
    "id": "FV86LbXAgko1",
    "outputId": "537ac3c1-958b-4fa8-f903-66b52a45a491"
   },
   "outputs": [],
   "source": [
    "(X_train_full, y_train_full), (X_test_full, y_test_full) = mnist.load_data()"
   ]
  },
  {
   "cell_type": "code",
   "execution_count": 26,
   "metadata": {
    "colab": {
     "base_uri": "https://localhost:8080/"
    },
    "executionInfo": {
     "elapsed": 17,
     "status": "ok",
     "timestamp": 1642674898792,
     "user": {
      "displayName": "Neeraj Bafila",
      "photoUrl": "https://lh3.googleusercontent.com/a-/AOh14GhhIphOTJTAzyfNbf7uurComfppVnuwqginW55U=s64",
      "userId": "01488709131866480312"
     },
     "user_tz": -330
    },
    "id": "CuBIEl73glho",
    "outputId": "c149283a-ab7b-4cd7-dead-4471dcdebef7"
   },
   "outputs": [
    {
     "data": {
      "text/plain": [
       "(60000, 28, 28)"
      ]
     },
     "execution_count": 26,
     "metadata": {},
     "output_type": "execute_result"
    }
   ],
   "source": [
    "X_train_full.shape # 60 k images of 28*28 size"
   ]
  },
  {
   "cell_type": "code",
   "execution_count": 27,
   "metadata": {
    "colab": {
     "base_uri": "https://localhost:8080/"
    },
    "executionInfo": {
     "elapsed": 17,
     "status": "ok",
     "timestamp": 1642674898793,
     "user": {
      "displayName": "Neeraj Bafila",
      "photoUrl": "https://lh3.googleusercontent.com/a-/AOh14GhhIphOTJTAzyfNbf7uurComfppVnuwqginW55U=s64",
      "userId": "01488709131866480312"
     },
     "user_tz": -330
    },
    "id": "1JipF2V7j9YE",
    "outputId": "c5a63d7e-4947-4bf9-8e8d-cfcf51a39886"
   },
   "outputs": [
    {
     "data": {
      "text/plain": [
       "(60000,)"
      ]
     },
     "execution_count": 27,
     "metadata": {},
     "output_type": "execute_result"
    }
   ],
   "source": [
    "y_train_full.shape"
   ]
  },
  {
   "cell_type": "code",
   "execution_count": 28,
   "metadata": {
    "colab": {
     "base_uri": "https://localhost:8080/"
    },
    "executionInfo": {
     "elapsed": 17,
     "status": "ok",
     "timestamp": 1642674898794,
     "user": {
      "displayName": "Neeraj Bafila",
      "photoUrl": "https://lh3.googleusercontent.com/a-/AOh14GhhIphOTJTAzyfNbf7uurComfppVnuwqginW55U=s64",
      "userId": "01488709131866480312"
     },
     "user_tz": -330
    },
    "id": "fRQPdugOkDl_",
    "outputId": "a737e6f5-4354-4550-926c-778ddc4bb89b"
   },
   "outputs": [
    {
     "data": {
      "text/plain": [
       "(10000, 28, 28)"
      ]
     },
     "execution_count": 28,
     "metadata": {},
     "output_type": "execute_result"
    }
   ],
   "source": [
    "X_test_full.shape"
   ]
  },
  {
   "cell_type": "code",
   "execution_count": 29,
   "metadata": {
    "colab": {
     "base_uri": "https://localhost:8080/"
    },
    "executionInfo": {
     "elapsed": 16,
     "status": "ok",
     "timestamp": 1642674898794,
     "user": {
      "displayName": "Neeraj Bafila",
      "photoUrl": "https://lh3.googleusercontent.com/a-/AOh14GhhIphOTJTAzyfNbf7uurComfppVnuwqginW55U=s64",
      "userId": "01488709131866480312"
     },
     "user_tz": -330
    },
    "id": "ETjnlDKhkGMr",
    "outputId": "ae572055-c4ac-4ab6-cf06-72ff598a9231"
   },
   "outputs": [
    {
     "data": {
      "text/plain": [
       "numpy.ndarray"
      ]
     },
     "execution_count": 29,
     "metadata": {},
     "output_type": "execute_result"
    }
   ],
   "source": [
    "type(X_train_full)"
   ]
  },
  {
   "cell_type": "code",
   "execution_count": 30,
   "metadata": {
    "executionInfo": {
     "elapsed": 16,
     "status": "ok",
     "timestamp": 1642674898795,
     "user": {
      "displayName": "Neeraj Bafila",
      "photoUrl": "https://lh3.googleusercontent.com/a-/AOh14GhhIphOTJTAzyfNbf7uurComfppVnuwqginW55U=s64",
      "userId": "01488709131866480312"
     },
     "user_tz": -330
    },
    "id": "0awWf1w1lLTQ"
   },
   "outputs": [],
   "source": [
    "img = X_train_full[1]"
   ]
  },
  {
   "cell_type": "code",
   "execution_count": 31,
   "metadata": {
    "colab": {
     "base_uri": "https://localhost:8080/"
    },
    "executionInfo": {
     "elapsed": 15,
     "status": "ok",
     "timestamp": 1642674898795,
     "user": {
      "displayName": "Neeraj Bafila",
      "photoUrl": "https://lh3.googleusercontent.com/a-/AOh14GhhIphOTJTAzyfNbf7uurComfppVnuwqginW55U=s64",
      "userId": "01488709131866480312"
     },
     "user_tz": -330
    },
    "id": "N-pX-OAXlRMW",
    "outputId": "cd73fbc8-7668-4015-871a-4045bd45d430"
   },
   "outputs": [
    {
     "data": {
      "text/plain": [
       "(28, 28)"
      ]
     },
     "execution_count": 31,
     "metadata": {},
     "output_type": "execute_result"
    }
   ],
   "source": [
    "img.shape"
   ]
  },
  {
   "cell_type": "code",
   "execution_count": 32,
   "metadata": {
    "colab": {
     "base_uri": "https://localhost:8080/"
    },
    "executionInfo": {
     "elapsed": 15,
     "status": "ok",
     "timestamp": 1642674898796,
     "user": {
      "displayName": "Neeraj Bafila",
      "photoUrl": "https://lh3.googleusercontent.com/a-/AOh14GhhIphOTJTAzyfNbf7uurComfppVnuwqginW55U=s64",
      "userId": "01488709131866480312"
     },
     "user_tz": -330
    },
    "id": "uwEsODwalSob",
    "outputId": "56bf5019-ee49-4887-a090-f93899aae94d"
   },
   "outputs": [
    {
     "data": {
      "text/plain": [
       "array([[  0,   0,   0,   0,   0,   0,   0,   0,   0,   0,   0,   0,   0,\n",
       "          0,   0,   0,   0,   0,   0,   0,   0,   0,   0,   0,   0,   0,\n",
       "          0,   0],\n",
       "       [  0,   0,   0,   0,   0,   0,   0,   0,   0,   0,   0,   0,   0,\n",
       "          0,   0,   0,   0,   0,   0,   0,   0,   0,   0,   0,   0,   0,\n",
       "          0,   0],\n",
       "       [  0,   0,   0,   0,   0,   0,   0,   0,   0,   0,   0,   0,   0,\n",
       "          0,   0,   0,   0,   0,   0,   0,   0,   0,   0,   0,   0,   0,\n",
       "          0,   0],\n",
       "       [  0,   0,   0,   0,   0,   0,   0,   0,   0,   0,   0,   0,   0,\n",
       "          0,   0,   0,   0,   0,   0,   0,   0,   0,   0,   0,   0,   0,\n",
       "          0,   0],\n",
       "       [  0,   0,   0,   0,   0,   0,   0,   0,   0,   0,   0,   0,   0,\n",
       "          0,   0,  51, 159, 253, 159,  50,   0,   0,   0,   0,   0,   0,\n",
       "          0,   0],\n",
       "       [  0,   0,   0,   0,   0,   0,   0,   0,   0,   0,   0,   0,   0,\n",
       "          0,  48, 238, 252, 252, 252, 237,   0,   0,   0,   0,   0,   0,\n",
       "          0,   0],\n",
       "       [  0,   0,   0,   0,   0,   0,   0,   0,   0,   0,   0,   0,   0,\n",
       "         54, 227, 253, 252, 239, 233, 252,  57,   6,   0,   0,   0,   0,\n",
       "          0,   0],\n",
       "       [  0,   0,   0,   0,   0,   0,   0,   0,   0,   0,   0,  10,  60,\n",
       "        224, 252, 253, 252, 202,  84, 252, 253, 122,   0,   0,   0,   0,\n",
       "          0,   0],\n",
       "       [  0,   0,   0,   0,   0,   0,   0,   0,   0,   0,   0, 163, 252,\n",
       "        252, 252, 253, 252, 252,  96, 189, 253, 167,   0,   0,   0,   0,\n",
       "          0,   0],\n",
       "       [  0,   0,   0,   0,   0,   0,   0,   0,   0,   0,  51, 238, 253,\n",
       "        253, 190, 114, 253, 228,  47,  79, 255, 168,   0,   0,   0,   0,\n",
       "          0,   0],\n",
       "       [  0,   0,   0,   0,   0,   0,   0,   0,   0,  48, 238, 252, 252,\n",
       "        179,  12,  75, 121,  21,   0,   0, 253, 243,  50,   0,   0,   0,\n",
       "          0,   0],\n",
       "       [  0,   0,   0,   0,   0,   0,   0,   0,  38, 165, 253, 233, 208,\n",
       "         84,   0,   0,   0,   0,   0,   0, 253, 252, 165,   0,   0,   0,\n",
       "          0,   0],\n",
       "       [  0,   0,   0,   0,   0,   0,   0,   7, 178, 252, 240,  71,  19,\n",
       "         28,   0,   0,   0,   0,   0,   0, 253, 252, 195,   0,   0,   0,\n",
       "          0,   0],\n",
       "       [  0,   0,   0,   0,   0,   0,   0,  57, 252, 252,  63,   0,   0,\n",
       "          0,   0,   0,   0,   0,   0,   0, 253, 252, 195,   0,   0,   0,\n",
       "          0,   0],\n",
       "       [  0,   0,   0,   0,   0,   0,   0, 198, 253, 190,   0,   0,   0,\n",
       "          0,   0,   0,   0,   0,   0,   0, 255, 253, 196,   0,   0,   0,\n",
       "          0,   0],\n",
       "       [  0,   0,   0,   0,   0,   0,  76, 246, 252, 112,   0,   0,   0,\n",
       "          0,   0,   0,   0,   0,   0,   0, 253, 252, 148,   0,   0,   0,\n",
       "          0,   0],\n",
       "       [  0,   0,   0,   0,   0,   0,  85, 252, 230,  25,   0,   0,   0,\n",
       "          0,   0,   0,   0,   0,   7, 135, 253, 186,  12,   0,   0,   0,\n",
       "          0,   0],\n",
       "       [  0,   0,   0,   0,   0,   0,  85, 252, 223,   0,   0,   0,   0,\n",
       "          0,   0,   0,   0,   7, 131, 252, 225,  71,   0,   0,   0,   0,\n",
       "          0,   0],\n",
       "       [  0,   0,   0,   0,   0,   0,  85, 252, 145,   0,   0,   0,   0,\n",
       "          0,   0,   0,  48, 165, 252, 173,   0,   0,   0,   0,   0,   0,\n",
       "          0,   0],\n",
       "       [  0,   0,   0,   0,   0,   0,  86, 253, 225,   0,   0,   0,   0,\n",
       "          0,   0, 114, 238, 253, 162,   0,   0,   0,   0,   0,   0,   0,\n",
       "          0,   0],\n",
       "       [  0,   0,   0,   0,   0,   0,  85, 252, 249, 146,  48,  29,  85,\n",
       "        178, 225, 253, 223, 167,  56,   0,   0,   0,   0,   0,   0,   0,\n",
       "          0,   0],\n",
       "       [  0,   0,   0,   0,   0,   0,  85, 252, 252, 252, 229, 215, 252,\n",
       "        252, 252, 196, 130,   0,   0,   0,   0,   0,   0,   0,   0,   0,\n",
       "          0,   0],\n",
       "       [  0,   0,   0,   0,   0,   0,  28, 199, 252, 252, 253, 252, 252,\n",
       "        233, 145,   0,   0,   0,   0,   0,   0,   0,   0,   0,   0,   0,\n",
       "          0,   0],\n",
       "       [  0,   0,   0,   0,   0,   0,   0,  25, 128, 252, 253, 252, 141,\n",
       "         37,   0,   0,   0,   0,   0,   0,   0,   0,   0,   0,   0,   0,\n",
       "          0,   0],\n",
       "       [  0,   0,   0,   0,   0,   0,   0,   0,   0,   0,   0,   0,   0,\n",
       "          0,   0,   0,   0,   0,   0,   0,   0,   0,   0,   0,   0,   0,\n",
       "          0,   0],\n",
       "       [  0,   0,   0,   0,   0,   0,   0,   0,   0,   0,   0,   0,   0,\n",
       "          0,   0,   0,   0,   0,   0,   0,   0,   0,   0,   0,   0,   0,\n",
       "          0,   0],\n",
       "       [  0,   0,   0,   0,   0,   0,   0,   0,   0,   0,   0,   0,   0,\n",
       "          0,   0,   0,   0,   0,   0,   0,   0,   0,   0,   0,   0,   0,\n",
       "          0,   0],\n",
       "       [  0,   0,   0,   0,   0,   0,   0,   0,   0,   0,   0,   0,   0,\n",
       "          0,   0,   0,   0,   0,   0,   0,   0,   0,   0,   0,   0,   0,\n",
       "          0,   0]], dtype=uint8)"
      ]
     },
     "execution_count": 32,
     "metadata": {},
     "output_type": "execute_result"
    }
   ],
   "source": [
    "img"
   ]
  },
  {
   "cell_type": "code",
   "execution_count": 33,
   "metadata": {
    "colab": {
     "base_uri": "https://localhost:8080/",
     "height": 282
    },
    "executionInfo": {
     "elapsed": 15,
     "status": "ok",
     "timestamp": 1642674898797,
     "user": {
      "displayName": "Neeraj Bafila",
      "photoUrl": "https://lh3.googleusercontent.com/a-/AOh14GhhIphOTJTAzyfNbf7uurComfppVnuwqginW55U=s64",
      "userId": "01488709131866480312"
     },
     "user_tz": -330
    },
    "id": "pP_nRoVdlZ6a",
    "outputId": "d8bc4ecc-7c91-4ba3-c262-73a0f2acb2eb"
   },
   "outputs": [
    {
     "data": {
      "text/plain": [
       "<matplotlib.image.AxesImage at 0x25f64cbf488>"
      ]
     },
     "execution_count": 33,
     "metadata": {},
     "output_type": "execute_result"
    },
    {
     "data": {
      "image/png": "[encoded data removed]",
      "text/plain": [
       "<Figure size 432x288 with 1 Axes>"
      ]
     },
     "metadata": {
      "needs_background": "light"
     },
     "output_type": "display_data"
    }
   ],
   "source": [
    "plt.imshow(img)"
   ]
  },
  {
   "cell_type": "code",
   "execution_count": 34,
   "metadata": {
    "colab": {
     "base_uri": "https://localhost:8080/",
     "height": 282
    },
    "executionInfo": {
     "elapsed": 13,
     "status": "ok",
     "timestamp": 1642674898798,
     "user": {
      "displayName": "Neeraj Bafila",
      "photoUrl": "https://lh3.googleusercontent.com/a-/AOh14GhhIphOTJTAzyfNbf7uurComfppVnuwqginW55U=s64",
      "userId": "01488709131866480312"
     },
     "user_tz": -330
    },
    "id": "uuNh1ZPvleWm",
    "outputId": "2dd74a77-9a2a-4548-a5c8-a25f662fdb3c"
   },
   "outputs": [
    {
     "data": {
      "text/plain": [
       "<matplotlib.image.AxesImage at 0x25f64d393c8>"
      ]
     },
     "execution_count": 34,
     "metadata": {},
     "output_type": "execute_result"
    },
    {
     "data": {
      "image/png": "[encoded data removed]",
      "text/plain": [
       "<Figure size 432x288 with 1 Axes>"
      ]
     },
     "metadata": {
      "needs_background": "light"
     },
     "output_type": "display_data"
    }
   ],
   "source": [
    "plt.imshow(img, cmap=\"binary\")"
   ]
  },
  {
   "cell_type": "code",
   "execution_count": 35,
   "metadata": {
    "colab": {
     "base_uri": "https://localhost:8080/",
     "height": 884
    },
    "executionInfo": {
     "elapsed": 4949,
     "status": "ok",
     "timestamp": 1642674903736,
     "user": {
      "displayName": "Neeraj Bafila",
      "photoUrl": "https://lh3.googleusercontent.com/a-/AOh14GhhIphOTJTAzyfNbf7uurComfppVnuwqginW55U=s64",
      "userId": "01488709131866480312"
     },
     "user_tz": -330
    },
    "id": "nzqH-2AcljfF",
    "outputId": "c7db5cf9-c384-4a18-9642-81cfb65ba858"
   },
   "outputs": [
    {
     "data": {
      "text/plain": [
       "<AxesSubplot:>"
      ]
     },
     "execution_count": 35,
     "metadata": {},
     "output_type": "execute_result"
    },
    {
     "data": {
      "image/png": "[encoded data removed]",
      "text/plain": [
       "<Figure size 1080x1080 with 2 Axes>"
      ]
     },
     "metadata": {
      "needs_background": "light"
     },
     "output_type": "display_data"
    }
   ],
   "source": [
    "plt.figure(figsize=(15,15))\n",
    "sns.heatmap(img/255, cmap=\"binary\", annot=True)"
   ]
  },
  {
   "cell_type": "code",
   "execution_count": 36,
   "metadata": {
    "executionInfo": {
     "elapsed": 14,
     "status": "ok",
     "timestamp": 1642674903738,
     "user": {
      "displayName": "Neeraj Bafila",
      "photoUrl": "https://lh3.googleusercontent.com/a-/AOh14GhhIphOTJTAzyfNbf7uurComfppVnuwqginW55U=s64",
      "userId": "01488709131866480312"
     },
     "user_tz": -330
    },
    "id": "EPFYVLuamDqu"
   },
   "outputs": [],
   "source": [
    "X_valid, X_train = X_train_full[:5000] /255 , X_train_full[5000:] /255\n",
    "y_valid, y_train = y_train_full[:5000], y_train_full[5000:]"
   ]
  },
  {
   "cell_type": "code",
   "execution_count": 37,
   "metadata": {
    "executionInfo": {
     "elapsed": 13,
     "status": "ok",
     "timestamp": 1642674903738,
     "user": {
      "displayName": "Neeraj Bafila",
      "photoUrl": "https://lh3.googleusercontent.com/a-/AOh14GhhIphOTJTAzyfNbf7uurComfppVnuwqginW55U=s64",
      "userId": "01488709131866480312"
     },
     "user_tz": -330
    },
    "id": "MZz3WC_T7wYt"
   },
   "outputs": [],
   "source": [
    "X_test_full = X_test_full / 255"
   ]
  },
  {
   "cell_type": "code",
   "execution_count": 38,
   "metadata": {
    "executionInfo": {
     "elapsed": 14,
     "status": "ok",
     "timestamp": 1642674903739,
     "user": {
      "displayName": "Neeraj Bafila",
      "photoUrl": "https://lh3.googleusercontent.com/a-/AOh14GhhIphOTJTAzyfNbf7uurComfppVnuwqginW55U=s64",
      "userId": "01488709131866480312"
     },
     "user_tz": -330
    },
    "id": "BMuh5jM88zgD"
   },
   "outputs": [],
   "source": [
    "# make Layer\n",
    "CLASS =10\n",
    "LAYER = [tf.keras.layers.Flatten(input_shape=(28,28), name='inputLayer'),\n",
    "         tf.keras.layers.Dense(units=300, activation='relu', name='hiddenLayer1'),\n",
    "         tf.keras.layers.Dense(units=100, activation='relu', name='hiddenLayer2'),\n",
    "         tf.keras.layers.Dense(units=CLASS, activation='softmax', name ='OutputLayer'),         \n",
    "]"
   ]
  },
  {
   "cell_type": "code",
   "execution_count": 39,
   "metadata": {
    "executionInfo": {
     "elapsed": 3524,
     "status": "ok",
     "timestamp": 1642674978173,
     "user": {
      "displayName": "Neeraj Bafila",
      "photoUrl": "https://lh3.googleusercontent.com/a-/AOh14GhhIphOTJTAzyfNbf7uurComfppVnuwqginW55U=s64",
      "userId": "01488709131866480312"
     },
     "user_tz": -330
    },
    "id": "GIXJOyG3DVg3"
   },
   "outputs": [],
   "source": [
    "model_cf = tf.keras.models.Sequential(layers=LAYER)"
   ]
  },
  {
   "cell_type": "code",
   "execution_count": 40,
   "metadata": {
    "colab": {
     "base_uri": "https://localhost:8080/"
    },
    "executionInfo": {
     "elapsed": 715,
     "status": "ok",
     "timestamp": 1642674994562,
     "user": {
      "displayName": "Neeraj Bafila",
      "photoUrl": "https://lh3.googleusercontent.com/a-/AOh14GhhIphOTJTAzyfNbf7uurComfppVnuwqginW55U=s64",
      "userId": "01488709131866480312"
     },
     "user_tz": -330
    },
    "id": "6QWShF0pDuxd",
    "outputId": "e9e6857e-86f9-43e8-8004-f7831ab5fdec"
   },
   "outputs": [
    {
     "data": {
      "text/plain": [
       "[<keras.layers.core.flatten.Flatten at 0x25f66b7bf48>,\n",
       " <keras.layers.core.dense.Dense at 0x25f66b62b88>,\n",
       " <keras.layers.core.dense.Dense at 0x25f66b62a88>,\n",
       " <keras.layers.core.dense.Dense at 0x25f64d3ec48>]"
      ]
     },
     "execution_count": 40,
     "metadata": {},
     "output_type": "execute_result"
    }
   ],
   "source": [
    "model_cf.layers"
   ]
  },
  {
   "cell_type": "code",
   "execution_count": 41,
   "metadata": {
    "colab": {
     "base_uri": "https://localhost:8080/"
    },
    "executionInfo": {
     "elapsed": 604,
     "status": "ok",
     "timestamp": 1642675016370,
     "user": {
      "displayName": "Neeraj Bafila",
      "photoUrl": "https://lh3.googleusercontent.com/a-/AOh14GhhIphOTJTAzyfNbf7uurComfppVnuwqginW55U=s64",
      "userId": "01488709131866480312"
     },
     "user_tz": -330
    },
    "id": "JZEgVM1mDzYA",
    "outputId": "bd755a7a-564f-4469-f403-a99d5ffd4429"
   },
   "outputs": [
    {
     "name": "stdout",
     "output_type": "stream",
     "text": [
      "Model: \"sequential\"\n",
      "_________________________________________________________________\n",
      " Layer (type)                Output Shape              Param #   \n",
      "=================================================================\n",
      " inputLayer (Flatten)        (None, 784)               0         \n",
      "                                                                 \n",
      " hiddenLayer1 (Dense)        (None, 300)               235500    \n",
      "                                                                 \n",
      " hiddenLayer2 (Dense)        (None, 100)               30100     \n",
      "                                                                 \n",
      " OutputLayer (Dense)         (None, 10)                1010      \n",
      "                                                                 \n",
      "=================================================================\n",
      "Total params: 266,610\n",
      "Trainable params: 266,610\n",
      "Non-trainable params: 0\n",
      "_________________________________________________________________\n"
     ]
    }
   ],
   "source": [
    "model_cf.summary()"
   ]
  },
  {
   "cell_type": "code",
   "execution_count": 42,
   "metadata": {
    "colab": {
     "base_uri": "https://localhost:8080/"
    },
    "executionInfo": {
     "elapsed": 591,
     "status": "ok",
     "timestamp": 1642675195557,
     "user": {
      "displayName": "Neeraj Bafila",
      "photoUrl": "https://lh3.googleusercontent.com/a-/AOh14GhhIphOTJTAzyfNbf7uurComfppVnuwqginW55U=s64",
      "userId": "01488709131866480312"
     },
     "user_tz": -330
    },
    "id": "xpadYlEOD4sR",
    "outputId": "a53c7ea0-02e2-4c35-b17d-0e5e9e2f80d7"
   },
   "outputs": [
    {
     "data": {
      "text/plain": [
       "235500"
      ]
     },
     "execution_count": 42,
     "metadata": {},
     "output_type": "execute_result"
    }
   ],
   "source": [
    "# paramsfor_l1, here biase are 300\n",
    "784 *300 + 300"
   ]
  },
  {
   "cell_type": "code",
   "execution_count": 43,
   "metadata": {
    "colab": {
     "base_uri": "https://localhost:8080/"
    },
    "executionInfo": {
     "elapsed": 580,
     "status": "ok",
     "timestamp": 1642675248639,
     "user": {
      "displayName": "Neeraj Bafila",
      "photoUrl": "https://lh3.googleusercontent.com/a-/AOh14GhhIphOTJTAzyfNbf7uurComfppVnuwqginW55U=s64",
      "userId": "01488709131866480312"
     },
     "user_tz": -330
    },
    "id": "e3l4P2J3EQYc",
    "outputId": "13d5d023-317f-4003-a5ae-c0befe6a1765"
   },
   "outputs": [
    {
     "data": {
      "text/plain": [
       "30100"
      ]
     },
     "execution_count": 43,
     "metadata": {},
     "output_type": "execute_result"
    }
   ],
   "source": [
    "# parmas for l2, here biase are 100\n",
    "300 * 100 + 100"
   ]
  },
  {
   "cell_type": "code",
   "execution_count": 44,
   "metadata": {
    "colab": {
     "base_uri": "https://localhost:8080/"
    },
    "executionInfo": {
     "elapsed": 612,
     "status": "ok",
     "timestamp": 1642675276092,
     "user": {
      "displayName": "Neeraj Bafila",
      "photoUrl": "https://lh3.googleusercontent.com/a-/AOh14GhhIphOTJTAzyfNbf7uurComfppVnuwqginW55U=s64",
      "userId": "01488709131866480312"
     },
     "user_tz": -330
    },
    "id": "dY6v41LaEvJZ",
    "outputId": "55131edf-c9d5-48a1-9e3c-c1e660ebf27f"
   },
   "outputs": [
    {
     "data": {
      "text/plain": [
       "1010"
      ]
     },
     "execution_count": 44,
     "metadata": {},
     "output_type": "execute_result"
    }
   ],
   "source": [
    "# params for opt layer, biase=10\n",
    "100 * 10 + 10"
   ]
  },
  {
   "cell_type": "code",
   "execution_count": 45,
   "metadata": {
    "colab": {
     "base_uri": "https://localhost:8080/"
    },
    "executionInfo": {
     "elapsed": 557,
     "status": "ok",
     "timestamp": 1642675401494,
     "user": {
      "displayName": "Neeraj Bafila",
      "photoUrl": "https://lh3.googleusercontent.com/a-/AOh14GhhIphOTJTAzyfNbf7uurComfppVnuwqginW55U=s64",
      "userId": "01488709131866480312"
     },
     "user_tz": -330
    },
    "id": "N6DscvGWE4OU",
    "outputId": "8517f195-a081-4abc-de4b-d94da34a8aaf"
   },
   "outputs": [
    {
     "data": {
      "text/plain": [
       "266610"
      ]
     },
     "execution_count": 45,
     "metadata": {},
     "output_type": "execute_result"
    }
   ],
   "source": [
    "# total param to be trained \n",
    "235500+30100+1010"
   ]
  },
  {
   "cell_type": "code",
   "execution_count": 46,
   "metadata": {
    "colab": {
     "base_uri": "https://localhost:8080/"
    },
    "executionInfo": {
     "elapsed": 546,
     "status": "ok",
     "timestamp": 1642675906865,
     "user": {
      "displayName": "Neeraj Bafila",
      "photoUrl": "https://lh3.googleusercontent.com/a-/AOh14GhhIphOTJTAzyfNbf7uurComfppVnuwqginW55U=s64",
      "userId": "01488709131866480312"
     },
     "user_tz": -330
    },
    "id": "eXViNx3AFW27",
    "outputId": "22cde150-1461-4962-f2da-53e625d5e111"
   },
   "outputs": [
    {
     "data": {
      "text/plain": [
       "[<keras.layers.core.flatten.Flatten at 0x25f66b7bf48>,\n",
       " <keras.layers.core.dense.Dense at 0x25f66b62b88>,\n",
       " <keras.layers.core.dense.Dense at 0x25f66b62a88>,\n",
       " <keras.layers.core.dense.Dense at 0x25f64d3ec48>]"
      ]
     },
     "execution_count": 46,
     "metadata": {},
     "output_type": "execute_result"
    }
   ],
   "source": [
    "model_cf.layers"
   ]
  },
  {
   "cell_type": "code",
   "execution_count": 47,
   "metadata": {
    "executionInfo": {
     "elapsed": 559,
     "status": "ok",
     "timestamp": 1642676003075,
     "user": {
      "displayName": "Neeraj Bafila",
      "photoUrl": "https://lh3.googleusercontent.com/a-/AOh14GhhIphOTJTAzyfNbf7uurComfppVnuwqginW55U=s64",
      "userId": "01488709131866480312"
     },
     "user_tz": -330
    },
    "id": "RbFh-ZFNHKCO"
   },
   "outputs": [],
   "source": [
    "weights, biases = model_cf.layers[1].get_weights()"
   ]
  },
  {
   "cell_type": "code",
   "execution_count": 48,
   "metadata": {
    "colab": {
     "base_uri": "https://localhost:8080/"
    },
    "executionInfo": {
     "elapsed": 521,
     "status": "ok",
     "timestamp": 1642676022769,
     "user": {
      "displayName": "Neeraj Bafila",
      "photoUrl": "https://lh3.googleusercontent.com/a-/AOh14GhhIphOTJTAzyfNbf7uurComfppVnuwqginW55U=s64",
      "userId": "01488709131866480312"
     },
     "user_tz": -330
    },
    "id": "bWwO29sIHpvP",
    "outputId": "0f7a4f67-ea8c-427e-be95-2927a5e742c4"
   },
   "outputs": [
    {
     "data": {
      "text/plain": [
       "(784, 300)"
      ]
     },
     "execution_count": 48,
     "metadata": {},
     "output_type": "execute_result"
    }
   ],
   "source": [
    "weights.shape"
   ]
  },
  {
   "cell_type": "code",
   "execution_count": 49,
   "metadata": {
    "colab": {
     "base_uri": "https://localhost:8080/"
    },
    "executionInfo": {
     "elapsed": 681,
     "status": "ok",
     "timestamp": 1642676076255,
     "user": {
      "displayName": "Neeraj Bafila",
      "photoUrl": "https://lh3.googleusercontent.com/a-/AOh14GhhIphOTJTAzyfNbf7uurComfppVnuwqginW55U=s64",
      "userId": "01488709131866480312"
     },
     "user_tz": -330
    },
    "id": "TpsyNkclHYez",
    "outputId": "09d48ea4-e8bd-412a-ca0c-eed8492bb6f6"
   },
   "outputs": [
    {
     "data": {
      "text/plain": [
       "(300,)"
      ]
     },
     "execution_count": 49,
     "metadata": {},
     "output_type": "execute_result"
    }
   ],
   "source": [
    "biases.shape"
   ]
  },
  {
   "cell_type": "code",
   "execution_count": 50,
   "metadata": {
    "colab": {
     "base_uri": "https://localhost:8080/"
    },
    "executionInfo": {
     "elapsed": 815,
     "status": "ok",
     "timestamp": 1642676108731,
     "user": {
      "displayName": "Neeraj Bafila",
      "photoUrl": "https://lh3.googleusercontent.com/a-/AOh14GhhIphOTJTAzyfNbf7uurComfppVnuwqginW55U=s64",
      "userId": "01488709131866480312"
     },
     "user_tz": -330
    },
    "id": "z2nk5ExVH7fG",
    "outputId": "ce2c7ab3-bfad-4ace-dfb8-cb8e5cb32f8d"
   },
   "outputs": [
    {
     "data": {
      "text/plain": [
       "array([[-0.04661572,  0.03214459, -0.03686077, ..., -0.0134659 ,\n",
       "        -0.06653228,  0.01020376],\n",
       "       [ 0.02592023, -0.03583479,  0.05701162, ...,  0.06339179,\n",
       "         0.01269475, -0.01861671],\n",
       "       [ 0.00076796, -0.01982232,  0.0491972 , ...,  0.05848129,\n",
       "         0.02199274,  0.01236158],\n",
       "       ...,\n",
       "       [ 0.00436678,  0.03557906,  0.02232102, ...,  0.04264196,\n",
       "        -0.07412144,  0.03499801],\n",
       "       [-0.05370607,  0.01723187,  0.05880572, ..., -0.05525026,\n",
       "         0.07243927, -0.06362928],\n",
       "       [ 0.02667397, -0.01243876, -0.03297297, ..., -0.04494875,\n",
       "         0.06749354,  0.01240321]], dtype=float32)"
      ]
     },
     "execution_count": 50,
     "metadata": {},
     "output_type": "execute_result"
    }
   ],
   "source": [
    "weights"
   ]
  },
  {
   "cell_type": "code",
   "execution_count": 51,
   "metadata": {
    "colab": {
     "base_uri": "https://localhost:8080/"
    },
    "executionInfo": {
     "elapsed": 704,
     "status": "ok",
     "timestamp": 1642676127355,
     "user": {
      "displayName": "Neeraj Bafila",
      "photoUrl": "https://lh3.googleusercontent.com/a-/AOh14GhhIphOTJTAzyfNbf7uurComfppVnuwqginW55U=s64",
      "userId": "01488709131866480312"
     },
     "user_tz": -330
    },
    "id": "H6sZBxDPIDbS",
    "outputId": "543e257a-0349-4908-ac73-7edc074f0c18"
   },
   "outputs": [
    {
     "data": {
      "text/plain": [
       "array([0., 0., 0., 0., 0., 0., 0., 0., 0., 0., 0., 0., 0., 0., 0., 0., 0.,\n",
       "       0., 0., 0., 0., 0., 0., 0., 0., 0., 0., 0., 0., 0., 0., 0., 0., 0.,\n",
       "       0., 0., 0., 0., 0., 0., 0., 0., 0., 0., 0., 0., 0., 0., 0., 0., 0.,\n",
       "       0., 0., 0., 0., 0., 0., 0., 0., 0., 0., 0., 0., 0., 0., 0., 0., 0.,\n",
       "       0., 0., 0., 0., 0., 0., 0., 0., 0., 0., 0., 0., 0., 0., 0., 0., 0.,\n",
       "       0., 0., 0., 0., 0., 0., 0., 0., 0., 0., 0., 0., 0., 0., 0., 0., 0.,\n",
       "       0., 0., 0., 0., 0., 0., 0., 0., 0., 0., 0., 0., 0., 0., 0., 0., 0.,\n",
       "       0., 0., 0., 0., 0., 0., 0., 0., 0., 0., 0., 0., 0., 0., 0., 0., 0.,\n",
       "       0., 0., 0., 0., 0., 0., 0., 0., 0., 0., 0., 0., 0., 0., 0., 0., 0.,\n",
       "       0., 0., 0., 0., 0., 0., 0., 0., 0., 0., 0., 0., 0., 0., 0., 0., 0.,\n",
       "       0., 0., 0., 0., 0., 0., 0., 0., 0., 0., 0., 0., 0., 0., 0., 0., 0.,\n",
       "       0., 0., 0., 0., 0., 0., 0., 0., 0., 0., 0., 0., 0., 0., 0., 0., 0.,\n",
       "       0., 0., 0., 0., 0., 0., 0., 0., 0., 0., 0., 0., 0., 0., 0., 0., 0.,\n",
       "       0., 0., 0., 0., 0., 0., 0., 0., 0., 0., 0., 0., 0., 0., 0., 0., 0.,\n",
       "       0., 0., 0., 0., 0., 0., 0., 0., 0., 0., 0., 0., 0., 0., 0., 0., 0.,\n",
       "       0., 0., 0., 0., 0., 0., 0., 0., 0., 0., 0., 0., 0., 0., 0., 0., 0.,\n",
       "       0., 0., 0., 0., 0., 0., 0., 0., 0., 0., 0., 0., 0., 0., 0., 0., 0.,\n",
       "       0., 0., 0., 0., 0., 0., 0., 0., 0., 0., 0.], dtype=float32)"
      ]
     },
     "execution_count": 51,
     "metadata": {},
     "output_type": "execute_result"
    }
   ],
   "source": [
    "biases"
   ]
  },
  {
   "cell_type": "code",
   "execution_count": 52,
   "metadata": {
    "executionInfo": {
     "elapsed": 756,
     "status": "ok",
     "timestamp": 1642676473743,
     "user": {
      "displayName": "Neeraj Bafila",
      "photoUrl": "https://lh3.googleusercontent.com/a-/AOh14GhhIphOTJTAzyfNbf7uurComfppVnuwqginW55U=s64",
      "userId": "01488709131866480312"
     },
     "user_tz": -330
    },
    "id": "ywseXB9YIIBH"
   },
   "outputs": [],
   "source": [
    "LOSS_FUNCTION = \"sparse_categorical_crossentropy\"\n",
    "OPTIMIZER = \"SGD\"\n",
    "METRICS = [\"accuracy\"]"
   ]
  },
  {
   "cell_type": "code",
   "execution_count": 53,
   "metadata": {
    "executionInfo": {
     "elapsed": 570,
     "status": "ok",
     "timestamp": 1642676600296,
     "user": {
      "displayName": "Neeraj Bafila",
      "photoUrl": "https://lh3.googleusercontent.com/a-/AOh14GhhIphOTJTAzyfNbf7uurComfppVnuwqginW55U=s64",
      "userId": "01488709131866480312"
     },
     "user_tz": -330
    },
    "id": "K5pAtD9NIWeS"
   },
   "outputs": [],
   "source": [
    "model_cf.compile(loss=LOSS_FUNCTION, optimizer=OPTIMIZER, metrics=METRICS)"
   ]
  },
  {
   "cell_type": "code",
   "execution_count": 54,
   "metadata": {
    "colab": {
     "base_uri": "https://localhost:8080/"
    },
    "executionInfo": {
     "elapsed": 202761,
     "status": "ok",
     "timestamp": 1642677563462,
     "user": {
      "displayName": "Neeraj Bafila",
      "photoUrl": "https://lh3.googleusercontent.com/a-/AOh14GhhIphOTJTAzyfNbf7uurComfppVnuwqginW55U=s64",
      "userId": "01488709131866480312"
     },
     "user_tz": -330
    },
    "id": "4hKz_ejDJ7ii",
    "outputId": "c3cab896-e2da-468a-a619-52afa15b4799"
   },
   "outputs": [
    {
     "name": "stdout",
     "output_type": "stream",
     "text": [
      "Epoch 1/30\n",
      "1719/1719 [==============================] - 5s 2ms/step - loss: 0.5992 - accuracy: 0.8441 - val_loss: 0.3098 - val_accuracy: 0.9160\n",
      "Epoch 2/30\n",
      "1719/1719 [==============================] - 4s 2ms/step - loss: 0.2909 - accuracy: 0.9174 - val_loss: 0.2385 - val_accuracy: 0.9336\n",
      "Epoch 3/30\n",
      "1719/1719 [==============================] - 4s 2ms/step - loss: 0.2397 - accuracy: 0.9323 - val_loss: 0.2069 - val_accuracy: 0.9426\n",
      "Epoch 4/30\n",
      "1719/1719 [==============================] - 4s 2ms/step - loss: 0.2069 - accuracy: 0.9418 - val_loss: 0.1806 - val_accuracy: 0.9502\n",
      "Epoch 5/30\n",
      "1719/1719 [==============================] - 4s 2ms/step - loss: 0.1818 - accuracy: 0.9487 - val_loss: 0.1635 - val_accuracy: 0.9572\n",
      "Epoch 6/30\n",
      "1719/1719 [==============================] - 3s 2ms/step - loss: 0.1616 - accuracy: 0.9537 - val_loss: 0.1513 - val_accuracy: 0.9584\n",
      "Epoch 7/30\n",
      "1719/1719 [==============================] - 4s 3ms/step - loss: 0.1459 - accuracy: 0.9583 - val_loss: 0.1374 - val_accuracy: 0.9618\n",
      "Epoch 8/30\n",
      "1719/1719 [==============================] - 5s 3ms/step - loss: 0.1327 - accuracy: 0.9626 - val_loss: 0.1287 - val_accuracy: 0.9652\n",
      "Epoch 9/30\n",
      "1719/1719 [==============================] - 3s 2ms/step - loss: 0.1210 - accuracy: 0.9662 - val_loss: 0.1215 - val_accuracy: 0.9672\n",
      "Epoch 10/30\n",
      "1719/1719 [==============================] - 3s 2ms/step - loss: 0.1111 - accuracy: 0.9691 - val_loss: 0.1113 - val_accuracy: 0.9704: 0s - loss: 0.1113 - accuracy\n",
      "Epoch 11/30\n",
      "1719/1719 [==============================] - 4s 2ms/step - loss: 0.1022 - accuracy: 0.9715 - val_loss: 0.1052 - val_accuracy: 0.9716\n",
      "Epoch 12/30\n",
      "1719/1719 [==============================] - 3s 2ms/step - loss: 0.0947 - accuracy: 0.9739 - val_loss: 0.1007 - val_accuracy: 0.9714\n",
      "Epoch 13/30\n",
      "1719/1719 [==============================] - 4s 2ms/step - loss: 0.0879 - accuracy: 0.9750 - val_loss: 0.0969 - val_accuracy: 0.9714\n",
      "Epoch 14/30\n",
      "1719/1719 [==============================] - 3s 2ms/step - loss: 0.0820 - accuracy: 0.9770 - val_loss: 0.0932 - val_accuracy: 0.9744\n",
      "Epoch 15/30\n",
      "1719/1719 [==============================] - 4s 2ms/step - loss: 0.0764 - accuracy: 0.9784 - val_loss: 0.0889 - val_accuracy: 0.9748\n",
      "Epoch 16/30\n",
      "1719/1719 [==============================] - 3s 2ms/step - loss: 0.0707 - accuracy: 0.9802 - val_loss: 0.0877 - val_accuracy: 0.9768\n",
      "Epoch 17/30\n",
      "1719/1719 [==============================] - 4s 2ms/step - loss: 0.0663 - accuracy: 0.9818 - val_loss: 0.0841 - val_accuracy: 0.9766\n",
      "Epoch 18/30\n",
      "1719/1719 [==============================] - 4s 2ms/step - loss: 0.0619 - accuracy: 0.9830 - val_loss: 0.0792 - val_accuracy: 0.9776\n",
      "Epoch 19/30\n",
      "1719/1719 [==============================] - 3s 2ms/step - loss: 0.0583 - accuracy: 0.9842 - val_loss: 0.0795 - val_accuracy: 0.9762\n",
      "Epoch 20/30\n",
      "1719/1719 [==============================] - 4s 2ms/step - loss: 0.0544 - accuracy: 0.9854 - val_loss: 0.0776 - val_accuracy: 0.9792\n",
      "Epoch 21/30\n",
      "1719/1719 [==============================] - 4s 2ms/step - loss: 0.0514 - accuracy: 0.9859 - val_loss: 0.0792 - val_accuracy: 0.9776ac\n",
      "Epoch 22/30\n",
      "1719/1719 [==============================] - 5s 3ms/step - loss: 0.0485 - accuracy: 0.9871 - val_loss: 0.0735 - val_accuracy: 0.9788\n",
      "Epoch 23/30\n",
      "1719/1719 [==============================] - 4s 3ms/step - loss: 0.0454 - accuracy: 0.9883 - val_loss: 0.0756 - val_accuracy: 0.9776\n",
      "Epoch 24/30\n",
      "1719/1719 [==============================] - 4s 2ms/step - loss: 0.0427 - accuracy: 0.9889 - val_loss: 0.0715 - val_accuracy: 0.9792\n",
      "Epoch 25/30\n",
      "1719/1719 [==============================] - 4s 2ms/step - loss: 0.0400 - accuracy: 0.9899 - val_loss: 0.0710 - val_accuracy: 0.9804\n",
      "Epoch 26/30\n",
      "1719/1719 [==============================] - 4s 2ms/step - loss: 0.0377 - accuracy: 0.9907 - val_loss: 0.0698 - val_accuracy: 0.9788\n",
      "Epoch 27/30\n",
      "1719/1719 [==============================] - 4s 2ms/step - loss: 0.0358 - accuracy: 0.9912 - val_loss: 0.0695 - val_accuracy: 0.9806\n",
      "Epoch 28/30\n",
      "1719/1719 [==============================] - 3s 2ms/step - loss: 0.0340 - accuracy: 0.9916 - val_loss: 0.0690 - val_accuracy: 0.9788\n",
      "Epoch 29/30\n",
      "1719/1719 [==============================] - 3s 2ms/step - loss: 0.0317 - accuracy: 0.9928 - val_loss: 0.0684 - val_accuracy: 0.9808\n",
      "Epoch 30/30\n",
      "1719/1719 [==============================] - 4s 2ms/step - loss: 0.0300 - accuracy: 0.9931 - val_loss: 0.0677 - val_accuracy: 0.9800\n"
     ]
    }
   ],
   "source": [
    "EPOCHS = 30\n",
    "VALIDATION = (X_valid, y_valid)\n",
    "\n",
    "history = model_cf.fit(X_train, y_train, epochs=EPOCHS, validation_data=VALIDATION)"
   ]
  },
  {
   "cell_type": "code",
   "execution_count": 48,
   "metadata": {
    "executionInfo": {
     "elapsed": 590,
     "status": "ok",
     "timestamp": 1642677722790,
     "user": {
      "displayName": "Neeraj Bafila",
      "photoUrl": "https://lh3.googleusercontent.com/a-/AOh14GhhIphOTJTAzyfNbf7uurComfppVnuwqginW55U=s64",
      "userId": "01488709131866480312"
     },
     "user_tz": -330
    },
    "id": "GcKLDawvKzz7"
   },
   "outputs": [],
   "source": [
    "# By default batch size =32, and we have 55000 trainding data, so 55000/32 = 1719 aprox . so it is sending data to layer in total 1719 batches.\n",
    "# also weight updated by 1719 times per epoch"
   ]
  },
  {
   "cell_type": "code",
   "execution_count": 55,
   "metadata": {
    "colab": {
     "base_uri": "https://localhost:8080/"
    },
    "executionInfo": {
     "elapsed": 560,
     "status": "ok",
     "timestamp": 1642677736657,
     "user": {
      "displayName": "Neeraj Bafila",
      "photoUrl": "https://lh3.googleusercontent.com/a-/AOh14GhhIphOTJTAzyfNbf7uurComfppVnuwqginW55U=s64",
      "userId": "01488709131866480312"
     },
     "user_tz": -330
    },
    "id": "jfEdBd9ULyZN",
    "outputId": "72891de7-11ad-478f-9bf3-9fe1b56c031d"
   },
   "outputs": [
    {
     "data": {
      "text/plain": [
       "dict"
      ]
     },
     "execution_count": 55,
     "metadata": {},
     "output_type": "execute_result"
    }
   ],
   "source": [
    "type(history.history)"
   ]
  },
  {
   "cell_type": "code",
   "execution_count": 56,
   "metadata": {
    "colab": {
     "base_uri": "https://localhost:8080/",
     "height": 990
    },
    "executionInfo": {
     "elapsed": 559,
     "status": "ok",
     "timestamp": 1642677782716,
     "user": {
      "displayName": "Neeraj Bafila",
      "photoUrl": "https://lh3.googleusercontent.com/a-/AOh14GhhIphOTJTAzyfNbf7uurComfppVnuwqginW55U=s64",
      "userId": "01488709131866480312"
     },
     "user_tz": -330
    },
    "id": "Koti9R7XOQ9s",
    "outputId": "0b9ca7b6-f397-4c55-e5c0-afbc717ec5dd"
   },
   "outputs": [
    {
     "data": {
      "text/html": [
       "<div>\n",
       "<style scoped>\n",
       "    .dataframe tbody tr th:only-of-type {\n",
       "        vertical-align: middle;\n",
       "    }\n",
       "\n",
       "    .dataframe tbody tr th {\n",
       "        vertical-align: top;\n",
       "    }\n",
       "\n",
       "    .dataframe thead th {\n",
       "        text-align: right;\n",
       "    }\n",
       "</style>\n",
       "<table border=\"1\" class=\"dataframe\">\n",
       "  <thead>\n",
       "    <tr style=\"text-align: right;\">\n",
       "      <th></th>\n",
       "      <th>loss</th>\n",
       "      <th>accuracy</th>\n",
       "      <th>val_loss</th>\n",
       "      <th>val_accuracy</th>\n",
       "    </tr>\n",
       "  </thead>\n",
       "  <tbody>\n",
       "    <tr>\n",
       "      <th>0</th>\n",
       "      <td>0.599189</td>\n",
       "      <td>0.844145</td>\n",
       "      <td>0.309773</td>\n",
       "      <td>0.9160</td>\n",
       "    </tr>\n",
       "    <tr>\n",
       "      <th>1</th>\n",
       "      <td>0.290936</td>\n",
       "      <td>0.917400</td>\n",
       "      <td>0.238487</td>\n",
       "      <td>0.9336</td>\n",
       "    </tr>\n",
       "    <tr>\n",
       "      <th>2</th>\n",
       "      <td>0.239699</td>\n",
       "      <td>0.932345</td>\n",
       "      <td>0.206929</td>\n",
       "      <td>0.9426</td>\n",
       "    </tr>\n",
       "    <tr>\n",
       "      <th>3</th>\n",
       "      <td>0.206852</td>\n",
       "      <td>0.941800</td>\n",
       "      <td>0.180647</td>\n",
       "      <td>0.9502</td>\n",
       "    </tr>\n",
       "    <tr>\n",
       "      <th>4</th>\n",
       "      <td>0.181817</td>\n",
       "      <td>0.948673</td>\n",
       "      <td>0.163483</td>\n",
       "      <td>0.9572</td>\n",
       "    </tr>\n",
       "    <tr>\n",
       "      <th>5</th>\n",
       "      <td>0.161645</td>\n",
       "      <td>0.953673</td>\n",
       "      <td>0.151325</td>\n",
       "      <td>0.9584</td>\n",
       "    </tr>\n",
       "    <tr>\n",
       "      <th>6</th>\n",
       "      <td>0.145920</td>\n",
       "      <td>0.958345</td>\n",
       "      <td>0.137393</td>\n",
       "      <td>0.9618</td>\n",
       "    </tr>\n",
       "    <tr>\n",
       "      <th>7</th>\n",
       "      <td>0.132718</td>\n",
       "      <td>0.962636</td>\n",
       "      <td>0.128664</td>\n",
       "      <td>0.9652</td>\n",
       "    </tr>\n",
       "    <tr>\n",
       "      <th>8</th>\n",
       "      <td>0.120952</td>\n",
       "      <td>0.966200</td>\n",
       "      <td>0.121534</td>\n",
       "      <td>0.9672</td>\n",
       "    </tr>\n",
       "    <tr>\n",
       "      <th>9</th>\n",
       "      <td>0.111098</td>\n",
       "      <td>0.969145</td>\n",
       "      <td>0.111329</td>\n",
       "      <td>0.9704</td>\n",
       "    </tr>\n",
       "    <tr>\n",
       "      <th>10</th>\n",
       "      <td>0.102250</td>\n",
       "      <td>0.971527</td>\n",
       "      <td>0.105224</td>\n",
       "      <td>0.9716</td>\n",
       "    </tr>\n",
       "    <tr>\n",
       "      <th>11</th>\n",
       "      <td>0.094674</td>\n",
       "      <td>0.973945</td>\n",
       "      <td>0.100722</td>\n",
       "      <td>0.9714</td>\n",
       "    </tr>\n",
       "    <tr>\n",
       "      <th>12</th>\n",
       "      <td>0.087937</td>\n",
       "      <td>0.975036</td>\n",
       "      <td>0.096867</td>\n",
       "      <td>0.9714</td>\n",
       "    </tr>\n",
       "    <tr>\n",
       "      <th>13</th>\n",
       "      <td>0.082044</td>\n",
       "      <td>0.976982</td>\n",
       "      <td>0.093185</td>\n",
       "      <td>0.9744</td>\n",
       "    </tr>\n",
       "    <tr>\n",
       "      <th>14</th>\n",
       "      <td>0.076355</td>\n",
       "      <td>0.978364</td>\n",
       "      <td>0.088874</td>\n",
       "      <td>0.9748</td>\n",
       "    </tr>\n",
       "    <tr>\n",
       "      <th>15</th>\n",
       "      <td>0.070699</td>\n",
       "      <td>0.980218</td>\n",
       "      <td>0.087741</td>\n",
       "      <td>0.9768</td>\n",
       "    </tr>\n",
       "    <tr>\n",
       "      <th>16</th>\n",
       "      <td>0.066300</td>\n",
       "      <td>0.981818</td>\n",
       "      <td>0.084100</td>\n",
       "      <td>0.9766</td>\n",
       "    </tr>\n",
       "    <tr>\n",
       "      <th>17</th>\n",
       "      <td>0.061884</td>\n",
       "      <td>0.983018</td>\n",
       "      <td>0.079228</td>\n",
       "      <td>0.9776</td>\n",
       "    </tr>\n",
       "    <tr>\n",
       "      <th>18</th>\n",
       "      <td>0.058333</td>\n",
       "      <td>0.984218</td>\n",
       "      <td>0.079531</td>\n",
       "      <td>0.9762</td>\n",
       "    </tr>\n",
       "    <tr>\n",
       "      <th>19</th>\n",
       "      <td>0.054448</td>\n",
       "      <td>0.985364</td>\n",
       "      <td>0.077623</td>\n",
       "      <td>0.9792</td>\n",
       "    </tr>\n",
       "    <tr>\n",
       "      <th>20</th>\n",
       "      <td>0.051411</td>\n",
       "      <td>0.985891</td>\n",
       "      <td>0.079222</td>\n",
       "      <td>0.9776</td>\n",
       "    </tr>\n",
       "    <tr>\n",
       "      <th>21</th>\n",
       "      <td>0.048493</td>\n",
       "      <td>0.987127</td>\n",
       "      <td>0.073519</td>\n",
       "      <td>0.9788</td>\n",
       "    </tr>\n",
       "    <tr>\n",
       "      <th>22</th>\n",
       "      <td>0.045367</td>\n",
       "      <td>0.988327</td>\n",
       "      <td>0.075574</td>\n",
       "      <td>0.9776</td>\n",
       "    </tr>\n",
       "    <tr>\n",
       "      <th>23</th>\n",
       "      <td>0.042710</td>\n",
       "      <td>0.988891</td>\n",
       "      <td>0.071545</td>\n",
       "      <td>0.9792</td>\n",
       "    </tr>\n",
       "    <tr>\n",
       "      <th>24</th>\n",
       "      <td>0.039965</td>\n",
       "      <td>0.989909</td>\n",
       "      <td>0.071016</td>\n",
       "      <td>0.9804</td>\n",
       "    </tr>\n",
       "    <tr>\n",
       "      <th>25</th>\n",
       "      <td>0.037701</td>\n",
       "      <td>0.990727</td>\n",
       "      <td>0.069780</td>\n",
       "      <td>0.9788</td>\n",
       "    </tr>\n",
       "    <tr>\n",
       "      <th>26</th>\n",
       "      <td>0.035845</td>\n",
       "      <td>0.991182</td>\n",
       "      <td>0.069485</td>\n",
       "      <td>0.9806</td>\n",
       "    </tr>\n",
       "    <tr>\n",
       "      <th>27</th>\n",
       "      <td>0.034017</td>\n",
       "      <td>0.991618</td>\n",
       "      <td>0.068972</td>\n",
       "      <td>0.9788</td>\n",
       "    </tr>\n",
       "    <tr>\n",
       "      <th>28</th>\n",
       "      <td>0.031687</td>\n",
       "      <td>0.992782</td>\n",
       "      <td>0.068370</td>\n",
       "      <td>0.9808</td>\n",
       "    </tr>\n",
       "    <tr>\n",
       "      <th>29</th>\n",
       "      <td>0.029956</td>\n",
       "      <td>0.993109</td>\n",
       "      <td>0.067673</td>\n",
       "      <td>0.9800</td>\n",
       "    </tr>\n",
       "  </tbody>\n",
       "</table>\n",
       "</div>"
      ],
      "text/plain": [
       "        loss  accuracy  val_loss  val_accuracy\n",
       "0   0.599189  0.844145  0.309773        0.9160\n",
       "1   0.290936  0.917400  0.238487        0.9336\n",
       "2   0.239699  0.932345  0.206929        0.9426\n",
       "3   0.206852  0.941800  0.180647        0.9502\n",
       "4   0.181817  0.948673  0.163483        0.9572\n",
       "5   0.161645  0.953673  0.151325        0.9584\n",
       "6   0.145920  0.958345  0.137393        0.9618\n",
       "7   0.132718  0.962636  0.128664        0.9652\n",
       "8   0.120952  0.966200  0.121534        0.9672\n",
       "9   0.111098  0.969145  0.111329        0.9704\n",
       "10  0.102250  0.971527  0.105224        0.9716\n",
       "11  0.094674  0.973945  0.100722        0.9714\n",
       "12  0.087937  0.975036  0.096867        0.9714\n",
       "13  0.082044  0.976982  0.093185        0.9744\n",
       "14  0.076355  0.978364  0.088874        0.9748\n",
       "15  0.070699  0.980218  0.087741        0.9768\n",
       "16  0.066300  0.981818  0.084100        0.9766\n",
       "17  0.061884  0.983018  0.079228        0.9776\n",
       "18  0.058333  0.984218  0.079531        0.9762\n",
       "19  0.054448  0.985364  0.077623        0.9792\n",
       "20  0.051411  0.985891  0.079222        0.9776\n",
       "21  0.048493  0.987127  0.073519        0.9788\n",
       "22  0.045367  0.988327  0.075574        0.9776\n",
       "23  0.042710  0.988891  0.071545        0.9792\n",
       "24  0.039965  0.989909  0.071016        0.9804\n",
       "25  0.037701  0.990727  0.069780        0.9788\n",
       "26  0.035845  0.991182  0.069485        0.9806\n",
       "27  0.034017  0.991618  0.068972        0.9788\n",
       "28  0.031687  0.992782  0.068370        0.9808\n",
       "29  0.029956  0.993109  0.067673        0.9800"
      ]
     },
     "execution_count": 56,
     "metadata": {},
     "output_type": "execute_result"
    }
   ],
   "source": [
    "pd.DataFrame(history.history)"
   ]
  },
  {
   "cell_type": "code",
   "execution_count": 57,
   "metadata": {
    "colab": {
     "base_uri": "https://localhost:8080/",
     "height": 428
    },
    "executionInfo": {
     "elapsed": 653,
     "status": "ok",
     "timestamp": 1642678106029,
     "user": {
      "displayName": "Neeraj Bafila",
      "photoUrl": "https://lh3.googleusercontent.com/a-/AOh14GhhIphOTJTAzyfNbf7uurComfppVnuwqginW55U=s64",
      "userId": "01488709131866480312"
     },
     "user_tz": -330
    },
    "id": "wREopWSeOSVs",
    "outputId": "076d2ecb-314f-4840-8f43-2a6e7b935c52"
   },
   "outputs": [
    {
     "data": {
      "image/png": "[encoded data removed]",
      "text/plain": [
       "<Figure size 720x504 with 1 Axes>"
      ]
     },
     "metadata": {
      "needs_background": "light"
     },
     "output_type": "display_data"
    }
   ],
   "source": [
    "pd.DataFrame(history.history).plot(figsize=(10,7))\n",
    "plt.grid(True)\n",
    "plt.show()"
   ]
  },
  {
   "cell_type": "code",
   "execution_count": 58,
   "metadata": {
    "colab": {
     "base_uri": "https://localhost:8080/"
    },
    "executionInfo": {
     "elapsed": 1336,
     "status": "ok",
     "timestamp": 1642678278682,
     "user": {
      "displayName": "Neeraj Bafila",
      "photoUrl": "https://lh3.googleusercontent.com/a-/AOh14GhhIphOTJTAzyfNbf7uurComfppVnuwqginW55U=s64",
      "userId": "01488709131866480312"
     },
     "user_tz": -330
    },
    "id": "y5PFnWlmOsdN",
    "outputId": "69d22e9b-7fa5-4bf9-f945-481e38769023"
   },
   "outputs": [
    {
     "name": "stdout",
     "output_type": "stream",
     "text": [
      "313/313 [==============================] - 0s 1ms/step - loss: 0.0716 - accuracy: 0.9791\n"
     ]
    },
    {
     "data": {
      "text/plain": [
       "[0.07159402966499329, 0.9790999889373779]"
      ]
     },
     "execution_count": 58,
     "metadata": {},
     "output_type": "execute_result"
    }
   ],
   "source": [
    "model_cf.evaluate(X_test_full, y_test_full)"
   ]
  },
  {
   "cell_type": "code",
   "execution_count": 59,
   "metadata": {
    "colab": {
     "base_uri": "https://localhost:8080/"
    },
    "executionInfo": {
     "elapsed": 1785,
     "status": "ok",
     "timestamp": 1642680970253,
     "user": {
      "displayName": "Neeraj Bafila",
      "photoUrl": "https://lh3.googleusercontent.com/a-/AOh14GhhIphOTJTAzyfNbf7uurComfppVnuwqginW55U=s64",
      "userId": "01488709131866480312"
     },
     "user_tz": -330
    },
    "id": "Gm4diHbyQLvw",
    "outputId": "0f3735bf-74a7-4afb-afce-8e71445ab207"
   },
   "outputs": [
    {
     "data": {
      "text/plain": [
       "312.5"
      ]
     },
     "execution_count": 59,
     "metadata": {},
     "output_type": "execute_result"
    }
   ],
   "source": [
    "# here steps are 313 as we have batch size =32\n",
    "X_test_full.shape[0]/32"
   ]
  },
  {
   "cell_type": "code",
   "execution_count": 60,
   "metadata": {
    "executionInfo": {
     "elapsed": 748,
     "status": "ok",
     "timestamp": 1642678653904,
     "user": {
      "displayName": "Neeraj Bafila",
      "photoUrl": "https://lh3.googleusercontent.com/a-/AOh14GhhIphOTJTAzyfNbf7uurComfppVnuwqginW55U=s64",
      "userId": "01488709131866480312"
     },
     "user_tz": -330
    },
    "id": "zI542RsUQs2S"
   },
   "outputs": [],
   "source": [
    "model_cf.save(\"deepL_1.h5\")"
   ]
  },
  {
   "cell_type": "code",
   "execution_count": 61,
   "metadata": {
    "colab": {
     "base_uri": "https://localhost:8080/"
    },
    "executionInfo": {
     "elapsed": 631,
     "status": "ok",
     "timestamp": 1642683420765,
     "user": {
      "displayName": "Neeraj Bafila",
      "photoUrl": "https://lh3.googleusercontent.com/a-/AOh14GhhIphOTJTAzyfNbf7uurComfppVnuwqginW55U=s64",
      "userId": "01488709131866480312"
     },
     "user_tz": -330
    },
    "id": "Y1n-9rOmRw3i",
    "outputId": "4fbbe080-1c9d-4a9b-8af3-2a6a25592967"
   },
   "outputs": [
    {
     "data": {
      "text/plain": [
       "array([[0., 0., 0., 0., 0., 0., 0., 1., 0., 0.]], dtype=float32)"
      ]
     },
     "execution_count": 61,
     "metadata": {},
     "output_type": "execute_result"
    }
   ],
   "source": [
    "model_cf.predict(X_test_full[:1]).round(3)"
   ]
  },
  {
   "cell_type": "code",
   "execution_count": 62,
   "metadata": {
    "colab": {
     "base_uri": "https://localhost:8080/",
     "height": 282
    },
    "executionInfo": {
     "elapsed": 13,
     "status": "ok",
     "timestamp": 1642683493043,
     "user": {
      "displayName": "Neeraj Bafila",
      "photoUrl": "https://lh3.googleusercontent.com/a-/AOh14GhhIphOTJTAzyfNbf7uurComfppVnuwqginW55U=s64",
      "userId": "01488709131866480312"
     },
     "user_tz": -330
    },
    "id": "dCEtWLt7jxU8",
    "outputId": "18d8891b-5d41-4352-eb50-a4801c3cd671"
   },
   "outputs": [
    {
     "data": {
      "text/plain": [
       "<matplotlib.image.AxesImage at 0x25f64313388>"
      ]
     },
     "execution_count": 62,
     "metadata": {},
     "output_type": "execute_result"
    },
    {
     "data": {
      "image/png": "[encoded data removed]",
      "text/plain": [
       "<Figure size 432x288 with 1 Axes>"
      ]
     },
     "metadata": {
      "needs_background": "light"
     },
     "output_type": "display_data"
    }
   ],
   "source": [
    "plt.imshow(X_test_full[0])"
   ]
  },
  {
   "cell_type": "code",
   "execution_count": 63,
   "metadata": {
    "colab": {
     "base_uri": "https://localhost:8080/"
    },
    "executionInfo": {
     "elapsed": 528,
     "status": "ok",
     "timestamp": 1642683644789,
     "user": {
      "displayName": "Neeraj Bafila",
      "photoUrl": "https://lh3.googleusercontent.com/a-/AOh14GhhIphOTJTAzyfNbf7uurComfppVnuwqginW55U=s64",
      "userId": "01488709131866480312"
     },
     "user_tz": -330
    },
    "id": "IdBNBOENkHF9",
    "outputId": "cc51721b-f929-4563-ed07-1a6bc4e7f0d8"
   },
   "outputs": [
    {
     "data": {
      "text/plain": [
       "array([7, 2, 1], dtype=int64)"
      ]
     },
     "execution_count": 63,
     "metadata": {},
     "output_type": "execute_result"
    }
   ],
   "source": [
    "np.argmax(model_cf.predict(X_test_full[:3]), axis=-1)\n"
   ]
  },
  {
   "cell_type": "code",
   "execution_count": 64,
   "metadata": {
    "colab": {
     "base_uri": "https://localhost:8080/",
     "height": 282
    },
    "executionInfo": {
     "elapsed": 573,
     "status": "ok",
     "timestamp": 1642684194984,
     "user": {
      "displayName": "Neeraj Bafila",
      "photoUrl": "https://lh3.googleusercontent.com/a-/AOh14GhhIphOTJTAzyfNbf7uurComfppVnuwqginW55U=s64",
      "userId": "01488709131866480312"
     },
     "user_tz": -330
    },
    "id": "irDX-qEIkp4V",
    "outputId": "ff0574ad-195f-4115-96ee-61e752bf7e94"
   },
   "outputs": [
    {
     "data": {
      "text/plain": [
       "<matplotlib.image.AxesImage at 0x25f643849c8>"
      ]
     },
     "execution_count": 64,
     "metadata": {},
     "output_type": "execute_result"
    },
    {
     "data": {
      "image/png": "[encoded data removed]",
      "text/plain": [
       "<Figure size 432x288 with 1 Axes>"
      ]
     },
     "metadata": {
      "needs_background": "light"
     },
     "output_type": "display_data"
    }
   ],
   "source": [
    "plt.imshow(X_test_full[0])"
   ]
  },
  {
   "cell_type": "code",
   "execution_count": 65,
   "metadata": {
    "colab": {
     "base_uri": "https://localhost:8080/",
     "height": 282
    },
    "executionInfo": {
     "elapsed": 559,
     "status": "ok",
     "timestamp": 1642684204549,
     "user": {
      "displayName": "Neeraj Bafila",
      "photoUrl": "https://lh3.googleusercontent.com/a-/AOh14GhhIphOTJTAzyfNbf7uurComfppVnuwqginW55U=s64",
      "userId": "01488709131866480312"
     },
     "user_tz": -330
    },
    "id": "qFWHzofMk7wd",
    "outputId": "33359696-fd0b-4fde-f597-80fc224c4329"
   },
   "outputs": [
    {
     "data": {
      "text/plain": [
       "<matplotlib.image.AxesImage at 0x25f64436bc8>"
      ]
     },
     "execution_count": 65,
     "metadata": {},
     "output_type": "execute_result"
    },
    {
     "data": {
      "image/png": "[encoded data removed]",
      "text/plain": [
       "<Figure size 432x288 with 1 Axes>"
      ]
     },
     "metadata": {
      "needs_background": "light"
     },
     "output_type": "display_data"
    }
   ],
   "source": [
    "plt.imshow(X_test_full[1])"
   ]
  },
  {
   "cell_type": "code",
   "execution_count": 66,
   "metadata": {
    "colab": {
     "base_uri": "https://localhost:8080/",
     "height": 282
    },
    "executionInfo": {
     "elapsed": 573,
     "status": "ok",
     "timestamp": 1642684210100,
     "user": {
      "displayName": "Neeraj Bafila",
      "photoUrl": "https://lh3.googleusercontent.com/a-/AOh14GhhIphOTJTAzyfNbf7uurComfppVnuwqginW55U=s64",
      "userId": "01488709131866480312"
     },
     "user_tz": -330
    },
    "id": "fBqLzwhpm8Dg",
    "outputId": "ee0d0d32-d314-4b08-dd29-31c5ce536044"
   },
   "outputs": [
    {
     "data": {
      "text/plain": [
       "<matplotlib.image.AxesImage at 0x25f644c6548>"
      ]
     },
     "execution_count": 66,
     "metadata": {},
     "output_type": "execute_result"
    },
    {
     "data": {
      "image/png": "[encoded data removed]",
      "text/plain": [
       "<Figure size 432x288 with 1 Axes>"
      ]
     },
     "metadata": {
      "needs_background": "light"
     },
     "output_type": "display_data"
    }
   ],
   "source": [
    "plt.imshow(X_test_full[2])"
   ]
  },
  {
   "cell_type": "code",
   "execution_count": 67,
   "metadata": {
    "executionInfo": {
     "elapsed": 543,
     "status": "ok",
     "timestamp": 1642684947788,
     "user": {
      "displayName": "Neeraj Bafila",
      "photoUrl": "https://lh3.googleusercontent.com/a-/AOh14GhhIphOTJTAzyfNbf7uurComfppVnuwqginW55U=s64",
      "userId": "01488709131866480312"
     },
     "user_tz": -330
    },
    "id": "yuBHT2UKm9Yj"
   },
   "outputs": [],
   "source": [
    "X_new = X_test_full[:3]"
   ]
  },
  {
   "cell_type": "code",
   "execution_count": 68,
   "metadata": {
    "executionInfo": {
     "elapsed": 602,
     "status": "ok",
     "timestamp": 1642685610792,
     "user": {
      "displayName": "Neeraj Bafila",
      "photoUrl": "https://lh3.googleusercontent.com/a-/AOh14GhhIphOTJTAzyfNbf7uurComfppVnuwqginW55U=s64",
      "userId": "01488709131866480312"
     },
     "user_tz": -330
    },
    "id": "4jNpHT-Upxga"
   },
   "outputs": [],
   "source": [
    "pred = model_cf.predict(X_new)"
   ]
  },
  {
   "cell_type": "code",
   "execution_count": 69,
   "metadata": {
    "colab": {
     "base_uri": "https://localhost:8080/"
    },
    "executionInfo": {
     "elapsed": 572,
     "status": "ok",
     "timestamp": 1642685641830,
     "user": {
      "displayName": "Neeraj Bafila",
      "photoUrl": "https://lh3.googleusercontent.com/a-/AOh14GhhIphOTJTAzyfNbf7uurComfppVnuwqginW55U=s64",
      "userId": "01488709131866480312"
     },
     "user_tz": -330
    },
    "id": "qDF0LLOcsTXe",
    "outputId": "9b6f0bee-ef1f-4ada-eba7-525b4f84f6a2"
   },
   "outputs": [
    {
     "data": {
      "text/plain": [
       "array([[6.2345686e-07, 5.7373533e-08, 2.5382104e-05, 3.1548995e-04,\n",
       "        3.8783532e-10, 2.2812921e-07, 1.2174295e-11, 9.9965334e-01,\n",
       "        2.0618832e-06, 2.8932297e-06],\n",
       "       [1.7197436e-07, 2.1951544e-06, 9.9998057e-01, 1.0955402e-05,\n",
       "        2.9043413e-13, 1.2502146e-07, 3.1201073e-06, 2.3519264e-13,\n",
       "        2.9371893e-06, 9.2005190e-13],\n",
       "       [2.2888610e-06, 9.9716789e-01, 1.7469590e-04, 3.5276033e-05,\n",
       "        1.8515675e-04, 1.3028846e-04, 7.4546580e-05, 1.3231327e-03,\n",
       "        8.7922282e-04, 2.7366546e-05]], dtype=float32)"
      ]
     },
     "execution_count": 69,
     "metadata": {},
     "output_type": "execute_result"
    }
   ],
   "source": [
    "pred"
   ]
  },
  {
   "cell_type": "code",
   "execution_count": 70,
   "metadata": {
    "executionInfo": {
     "elapsed": 718,
     "status": "ok",
     "timestamp": 1642685681048,
     "user": {
      "displayName": "Neeraj Bafila",
      "photoUrl": "https://lh3.googleusercontent.com/a-/AOh14GhhIphOTJTAzyfNbf7uurComfppVnuwqginW55U=s64",
      "userId": "01488709131866480312"
     },
     "user_tz": -330
    },
    "id": "pY3rkqH7sa8u"
   },
   "outputs": [],
   "source": [
    "pred = np.argmax(pred, axis=-1)"
   ]
  },
  {
   "cell_type": "code",
   "execution_count": 71,
   "metadata": {
    "executionInfo": {
     "elapsed": 639,
     "status": "ok",
     "timestamp": 1642685684825,
     "user": {
      "displayName": "Neeraj Bafila",
      "photoUrl": "https://lh3.googleusercontent.com/a-/AOh14GhhIphOTJTAzyfNbf7uurComfppVnuwqginW55U=s64",
      "userId": "01488709131866480312"
     },
     "user_tz": -330
    },
    "id": "7D5VRnqWp3Qy"
   },
   "outputs": [],
   "source": [
    "actual = y_test_full[:3]"
   ]
  },
  {
   "cell_type": "code",
   "execution_count": 72,
   "metadata": {
    "colab": {
     "base_uri": "https://localhost:8080/",
     "height": 758
    },
    "executionInfo": {
     "elapsed": 36,
     "status": "ok",
     "timestamp": 1642685701565,
     "user": {
      "displayName": "Neeraj Bafila",
      "photoUrl": "https://lh3.googleusercontent.com/a-/AOh14GhhIphOTJTAzyfNbf7uurComfppVnuwqginW55U=s64",
      "userId": "01488709131866480312"
     },
     "user_tz": -330
    },
    "id": "73OJBrSbqAIr",
    "outputId": "8dd86cfa-a59a-4692-fcbd-73146af72556"
   },
   "outputs": [
    {
     "data": {
      "image/png": "[encoded data removed]",
      "text/plain": [
       "<Figure size 432x288 with 1 Axes>"
      ]
     },
     "metadata": {
      "needs_background": "light"
     },
     "output_type": "display_data"
    },
    {
     "data": {
      "image/png": "[encoded data removed]",
      "text/plain": [
       "<Figure size 432x288 with 1 Axes>"
      ]
     },
     "metadata": {
      "needs_background": "light"
     },
     "output_type": "display_data"
    },
    {
     "data": {
      "image/png": "[encoded data removed]",
      "text/plain": [
       "<Figure size 432x288 with 1 Axes>"
      ]
     },
     "metadata": {
      "needs_background": "light"
     },
     "output_type": "display_data"
    }
   ],
   "source": [
    "for img, predicted_data, actual_data in zip(X_new, pred, actual):\n",
    "  plt.imshow(img)\n",
    "  plt.title(f'predicted {predicted_data}, actual {actual_data}')\n",
    "  plt.axis(\"off\")\n",
    "  plt.show()\n",
    "   "
   ]
  },
  {
   "cell_type": "code",
   "execution_count": null,
   "metadata": {
    "id": "DwKOAPUFqjOq"
   },
   "outputs": [],
   "source": []
  }
 ],
 "metadata": {
  "accelerator": "GPU",
  "colab": {
   "authorship_tag": "ABX9TyMiPmFjJoYQgi2P4V69MYB+",
   "collapsed_sections": [],
   "name": "TenserFlowDemo.ipynb",
   "provenance": []
  },
  "kernelspec": {
   "display_name": "Python 3",
   "language": "python",
   "name": "python3"
  },
  "language_info": {
   "codemirror_mode": {
    "name": "ipython",
    "version": 3
   },
   "file_extension": ".py",
   "mimetype": "text/x-python",
   "name": "python",
   "nbconvert_exporter": "python",
   "pygments_lexer": "ipython3",
   "version": "3.7.11"
  }
 },
 "nbformat": 4,
 "nbformat_minor": 1
}
